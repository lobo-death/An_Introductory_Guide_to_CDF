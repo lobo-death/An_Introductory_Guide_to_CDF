{
  "nbformat": 4,
  "nbformat_minor": 0,
  "metadata": {
    "colab": {
      "name": "Normal Distribution - An Introductory Guide to CDF.ipynb",
      "provenance": [],
      "collapsed_sections": []
    },
    "kernelspec": {
      "name": "python3",
      "display_name": "Python 3"
    },
    "language_info": {
      "name": "python"
    }
  },
  "cells": [
    {
      "cell_type": "markdown",
      "source": [
        "### Normal Distribution\n",
        "#### An Introductory Guide to CDF\n",
        "##### by Teena Mary\n",
        "##### adapted by Marcelo Machado Pereira"
      ],
      "metadata": {
        "id": "3-tIgnAknY4W"
      }
    },
    {
      "cell_type": "markdown",
      "source": [
        "The cumulative distribution function, CDF, or cumulant is a function derived from the probability density function for a continuous random variable(Real Numbers, Example: height, weight, etc). It gives the probability of finding the random variable at a value less than or equal to a given cutoff, ie, P(X ≤ x).(BRILLIANT, 2022)"
      ],
      "metadata": {
        "id": "r_PtpAXqPXYw"
      }
    },
    {
      "cell_type": "markdown",
      "source": [
        "### Loading packages"
      ],
      "metadata": {
        "id": "0_7Y9BQXt9Vz"
      }
    },
    {
      "cell_type": "code",
      "source": [
        "from matplotlib import pyplot as plt\n",
        "from scipy.stats import norm"
      ],
      "metadata": {
        "id": "c2WYilbF9YSQ"
      },
      "execution_count": null,
      "outputs": []
    },
    {
      "cell_type": "code",
      "source": [
        "import numpy as np\n",
        "import scipy\n",
        "import math"
      ],
      "metadata": {
        "id": "TGEeLQ-s9355"
      },
      "execution_count": null,
      "outputs": []
    },
    {
      "cell_type": "markdown",
      "source": [
        "### Creating functions"
      ],
      "metadata": {
        "id": "Nq6HXUjpL6eS"
      }
    },
    {
      "cell_type": "code",
      "source": [
        "def PDF(x, mean, std_dev):\n",
        "    probability = 1.0 / math.sqrt(2 * 3.141592 * (std_dev)**2)\n",
        "    probability *= math.exp(-0.5 * ((x - mean)/std_dev)**2)\n",
        "    return probability"
      ],
      "metadata": {
        "id": "73vmLKcU9N9K"
      },
      "execution_count": null,
      "outputs": []
    },
    {
      "cell_type": "code",
      "source": [
        "def CDF(mean=0, std_dev=1, x_left=-4, x_right=4, width=0.0001):\n",
        "    CDF = 0\n",
        "    the_range = int((x_right - x_left)/width) + 1\n",
        "    for i in range(the_range):\n",
        "        x = x_left + i * width\n",
        "        y = PDF(x, mean, std_dev)\n",
        "        panel = y * width\n",
        "        CDF += panel\n",
        "    return CDF"
      ],
      "metadata": {
        "id": "fhPWQ5vvowsN"
      },
      "execution_count": null,
      "outputs": []
    },
    {
      "cell_type": "markdown",
      "source": [
        "### Creating data"
      ],
      "metadata": {
        "id": "rzTDz50qMDHa"
      }
    },
    {
      "cell_type": "code",
      "source": [
        "text_1st = \"1st Graders heights\"\n",
        "text_iqs = \"IQ scores\"\n",
        "values = [\n",
        "    (text_iqs, 100, 15, 40, 160),\n",
        "    (text_iqs, 100, 15, 40, 100),\n",
        "    (text_iqs, 100, 15, 100, 160),\n",
        "    (text_1st, 37, 2, 29, 45),\n",
        "    (text_1st, 37, 2, 29, 37),\n",
        "    (text_1st, 37, 2, 37, 45)\n",
        "]\n",
        "\n",
        "for t in values:\n",
        "    text = t[0]\n",
        "    mean = t[1]\n",
        "    std = t[2]\n",
        "    lt = t[3]\n",
        "    rt = t[4]\n",
        "    cd_out = round(CDF(mean=mean, std_dev=std, x_left=lt, x_right=rt), 2)\n",
        "    print(\"Probability of {} being {} <= x <= {} is {}\".format(text, lt, rt, cd_out))"
      ],
      "metadata": {
        "id": "apVJiEm8oqp_"
      },
      "execution_count": null,
      "outputs": []
    },
    {
      "cell_type": "markdown",
      "source": [
        "### Cumulative Distribution Plot"
      ],
      "metadata": {
        "id": "uGMfbUkh-z8V"
      }
    },
    {
      "cell_type": "code",
      "source": [
        "X = np.arange(29, 46, 0.0001)\n",
        "Y = norm.pdf(X, loc=37, scale=2)\n",
        "plt.plot(X, Y)\n",
        "plt.title(\"Probability Distribution Function\")\n",
        "plt.xlabel('X-Values')\n",
        "plt.ylabel('PDF(x)')\n",
        "\n",
        "pX = np.arange(29, 37, 0.0001)\n",
        "pY = norm.pdf(pX,loc=37, scale=2)\n",
        "plt.fill_between(pX, pY, alpha=0.5, color='c')\n",
        "\n",
        "prob = round(norm.cdf(x=37, loc=37, scale=2),2)\n",
        "plt.text(34.5, 0.03, prob, fontsize=20)  # Add text at position\n",
        "plt.show()"
      ],
      "metadata": {
        "id": "9RHHD8j0nQAG"
      },
      "execution_count": null,
      "outputs": []
    },
    {
      "cell_type": "markdown",
      "source": [
        "### To find P(X < x)"
      ],
      "metadata": {
        "id": "AnLR55jBk1CC"
      }
    },
    {
      "cell_type": "code",
      "source": [
        "less_than_5 = norm.cdf(x=5, loc=3, scale=2)\n",
        "print(\"Calculating Probability using Normal Distribution: {:.4f}\".format(less_than_5))"
      ],
      "metadata": {
        "id": "k3oar-qn_GnZ"
      },
      "execution_count": null,
      "outputs": []
    },
    {
      "cell_type": "markdown",
      "source": [
        "### P(X < 5)"
      ],
      "metadata": {
        "id": "4mtzzbUw_h9i"
      }
    },
    {
      "cell_type": "code",
      "source": [
        "fig, ax = plt.subplots()\n",
        "\n",
        "x = np.arange(-4, 10, 0.001)\n",
        "ax.plot(x, norm.pdf(x, loc=3, scale=2))\n",
        "ax.set_title(\"Normal Dist with mean=3, std_dev=2\")\n",
        "ax.set_xlabel(\"X-values\")\n",
        "ax.set_ylabel(\"PDF(X)\")\n",
        "\n",
        "px = np.arange(-4, 5, 0.01)\n",
        "ax.set_ylim(0, 0.25)\n",
        "ax.fill_between(px, norm.pdf(px, loc=3, scale=2), alpha=0.5, color=\"r\")\n",
        "\n",
        "ax.text(-0.5, 0.02, round(less_than_5, 2), fontsize=20)\n",
        "plt.show()"
      ],
      "metadata": {
        "id": "Il23LuJ9nL0b"
      },
      "execution_count": null,
      "outputs": []
    },
    {
      "cell_type": "markdown",
      "source": [
        "### To find P(x1 < X < x2)"
      ],
      "metadata": {
        "id": "N525ilAwkgIN"
      }
    },
    {
      "cell_type": "code",
      "source": [
        "norm(1, 2).cdf(5) - norm(1, 2).cdf(0.2)"
      ],
      "metadata": {
        "id": "1ymiI5gA_23o"
      },
      "execution_count": null,
      "outputs": []
    },
    {
      "cell_type": "markdown",
      "source": [
        "### P(0.2 < X < 5)"
      ],
      "metadata": {
        "id": "UhIXCy05_301"
      }
    },
    {
      "cell_type": "code",
      "source": [
        "fig, ax = plt.subplots()\n",
        "\n",
        "x = np.arange(-6, 8, 0.001)\n",
        "ax.plot(x, norm.pdf(x, loc=1, scale=2))\n",
        "ax.set_title(\"Normal Dist with mean=1, std_dev=2\")\n",
        "ax.set_xlabel(\"X-values\")\n",
        "ax.set_ylabel(\"PDF(X)\")\n",
        "ax.grid(True)\n",
        "\n",
        "px = np.arange(0.2, 5, 0.01)\n",
        "ax.set_ylim(0, 0.25)\n",
        "ax.fill_between(px, norm.pdf(px, loc=1, scale=2), alpha=0.5, color=\"c\")\n",
        "\n",
        "pro = norm(1, 2).cdf(5) - norm(1, 2).cdf(0.2)\n",
        "ax.text(0.2, 0.02, round(pro, 2), fontsize=20)\n",
        "plt.show()"
      ],
      "metadata": {
        "id": "TMCNrLz6m_Uv"
      },
      "execution_count": null,
      "outputs": []
    },
    {
      "cell_type": "markdown",
      "source": [
        "### To find P(X > x)"
      ],
      "metadata": {
        "id": "V1-Pobr7juYF"
      }
    },
    {
      "cell_type": "code",
      "source": [
        "greater_than_3 = norm.sf(x=3, loc=4, scale=2)\n",
        "greater_than_3"
      ],
      "metadata": {
        "id": "rhkf7oYMmyan"
      },
      "execution_count": null,
      "outputs": []
    },
    {
      "cell_type": "markdown",
      "source": [
        "### P(X > 3)"
      ],
      "metadata": {
        "id": "3frZRfV3AH2C"
      }
    },
    {
      "cell_type": "code",
      "source": [
        "fig, ax = plt.subplots()\n",
        "x = np.arange(-4, 10, 0.001)\n",
        "ax.plot(x, norm.pdf(x, loc=4, scale=2))\n",
        "ax.set_title(\"Normal Dist with mean=4, std_dev=2\")\n",
        "ax.set_xlabel(\"X-values\")\n",
        "ax.set_ylabel(\"PDF(X)\")\n",
        "ax.grid(True)\n",
        "\n",
        "px = np.arange(3, 10, 0.01)\n",
        "ax.set_ylim(0, 0.25)\n",
        "ax.fill_between(px, norm.pdf(px, loc=4, scale=2), alpha=0.5, color=\"m\")\n",
        "\n",
        "ax.text(4, 0.02, \"P(X>3)\\n%.2f\" % (greater_than_3), fontsize=18)\n",
        "plt.show()"
      ],
      "metadata": {
        "id": "hnXzgYECmvJe"
      },
      "execution_count": null,
      "outputs": []
    },
    {
      "cell_type": "markdown",
      "source": [
        "### P(X > 3) = 1 - P(X < 3)"
      ],
      "metadata": {
        "id": "XHMnS9gQAdUa"
      }
    },
    {
      "cell_type": "code",
      "source": [
        "gr4 = norm.cdf(x=3, loc=4, scale=2)\n",
        "gr14 = 1-gr4\n",
        "fig, ax = plt.subplots()\n",
        "x = np.arange(-4, 10, 0.001)\n",
        "ax.plot(x, norm.pdf(x, loc=4, scale=2))\n",
        "ax.set_title(\"Normal Dist with mean=4, std_dev=2\")\n",
        "ax.set_xlabel(\"X-values\")\n",
        "ax.set_ylabel(\"PDF(X)\")\n",
        "\n",
        "px = np.arange(3, 10, 0.01)\n",
        "ax.set_ylim(0, 0.25)\n",
        "ax.fill_between(px, norm.pdf(px, loc=4, scale=2), alpha=0.5, color=\"r\")\n",
        "px1 = np.arange(-4, 3, 0.01)\n",
        "ax.fill_between(px1, norm.pdf(px1, loc=4, scale=2), alpha=0.5, color=\"c\")\n",
        "ax.text(4.5, 0.02, round(gr14, 2), fontsize=20)\n",
        "ax.text(1, 0.02, round(gr4, 2), fontsize=20)\n",
        "plt.show()"
      ],
      "metadata": {
        "id": "DM6W2tT0me_8"
      },
      "execution_count": null,
      "outputs": []
    },
    {
      "cell_type": "code",
      "source": [
        ""
      ],
      "metadata": {
        "id": "Uo8jI87OAwh6"
      },
      "execution_count": null,
      "outputs": []
    },
    {
      "cell_type": "markdown",
      "source": [
        "### References\n",
        "https://integratedmlai.com/normal-distribution-an-introductory-guide-to-pdf-and-cdf/"
      ],
      "metadata": {
        "id": "IBt5YIVjmLcq"
      }
    },
    {
      "cell_type": "code",
      "source": [
        ""
      ],
      "metadata": {
        "id": "BrUqAI3ImaZE"
      },
      "execution_count": null,
      "outputs": []
    }
  ]
}